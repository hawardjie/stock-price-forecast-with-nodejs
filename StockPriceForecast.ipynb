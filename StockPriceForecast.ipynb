import pandas as pd
import matplotlib.pyplot as plt
from statsmodels.tsa.arima.model import ARIMA

# Fetch stock data (mock data for illustration)
def fetch_stock_data(ticker):
    dates = pd.date_range(start='2023-01-01', periods=100)
    data = pd.DataFrame({'Date': dates, 'Close': np.random.rand(100) * 100})
    return data

# Load and prepare data
stock_data = fetch_stock_data('AAPL')

# Forecast stock prices
def forecast_stock_prices(data):
    model = ARIMA(data['Close'], order=(5, 1, 0))
    model_fit = model.fit()
    forecast = model_fit.forecast(steps=5)
    return forecast

forecast = forecast_stock_prices(stock_data)

# Visualize the forecast
plt.figure(figsize=(10, 5))
plt.plot(stock_data['Date'], stock_data['Close'], label='Historical')
plt.plot(pd.date_range(stock_data['Date'].iloc[-1], periods=6)[1:], forecast, label='Forecast')
plt.legend()
plt.show()
